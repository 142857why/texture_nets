{
 "cells": [
  {
   "cell_type": "code",
   "execution_count": null,
   "metadata": {
    "collapsed": false
   },
   "outputs": [],
   "source": [
    "require 'cutorch'\n",
    "require 'nn'\n",
    "require 'cunn'\n",
    "require 'image'\n",
    "require 'utils'"
   ]
  },
  {
   "cell_type": "markdown",
   "metadata": {},
   "source": [
    "# Sample from models"
   ]
  },
  {
   "cell_type": "markdown",
   "metadata": {},
   "source": [
    "We provide pretrained models in `texture_models` directory. As of 02/02/2015 nn.BatchNorm throws a error in CPU mode, so only GPU mode supported. \n",
    "\n",
    "You can load any model just by changing the following line."
   ]
  },
  {
   "cell_type": "code",
   "execution_count": null,
   "metadata": {
    "collapsed": true
   },
   "outputs": [],
   "source": [
    "texture_name = 'bricks.png'"
   ]
  },
  {
   "cell_type": "markdown",
   "metadata": {},
   "source": [
    "The full list of textures available (copy the name to the cell above):"
   ]
  },
  {
   "cell_type": "markdown",
   "metadata": {},
   "source": [
    "pixelcity_windows2.jpg\n",
    "\n",
    "bricks.png\n",
    "\n",
    "red-peppers256.o.jpg\n",
    "\n",
    "pebble.png"
   ]
  },
  {
   "cell_type": "code",
   "execution_count": null,
   "metadata": {
    "collapsed": false
   },
   "outputs": [],
   "source": [
    "model_name = texture_name .. '_model.t7' \n",
    "model = torch.load('texture_models/' .. model_name):cuda() \n",
    "function nn.BatchNormalization:checkInputDim(input) \n",
    "end"
   ]
  },
  {
   "cell_type": "markdown",
   "metadata": {},
   "source": [
    "### Here we present original texture followed by 3 samples"
   ]
  },
  {
   "cell_type": "code",
   "execution_count": null,
   "metadata": {
    "collapsed": false
   },
   "outputs": [],
   "source": [
    "-- noise is generated with special module nn.GenNoise inside the network\n",
    "-- so using zeros as input is completely fine  \n",
    "samples = model:forward(torch.zeros(3,3,256,256):cuda()):double()\n",
    "itorch.image(image.load('texture_models/' .. texture_name))\n",
    "itorch.image(deprocess(samples))"
   ]
  },
  {
   "cell_type": "markdown",
   "metadata": {},
   "source": [
    "# Other resolution"
   ]
  },
  {
   "cell_type": "code",
   "execution_count": null,
   "metadata": {
    "collapsed": false
   },
   "outputs": [],
   "source": [
    "sample_size = 64 -- powers of 2 are supported for now\n",
    "samples = model:forward(torch.zeros(1,3,sample_size,sample_size):cuda()):double()\n",
    "print ('sample size is', samples:size(3))\n",
    "itorch.image(deprocess(samples))"
   ]
  },
  {
   "cell_type": "code",
   "execution_count": null,
   "metadata": {
    "collapsed": false
   },
   "outputs": [],
   "source": [
    "sample_size = 512 -- powers of 2 are supported for now\n",
    "samples = model:forward(torch.zeros(1,3,sample_size,sample_size):cuda()):double()\n",
    "print ('sample size is', samples:size(3))\n",
    "itorch.image(deprocess(samples))"
   ]
  },
  {
   "cell_type": "markdown",
   "metadata": {},
   "source": [
    "# Explore texture element size"
   ]
  },
  {
   "cell_type": "markdown",
   "metadata": {},
   "source": [
    "Here we explore the effect of additional noise. i-th picture generated setting all noise inputs but i-th to zero."
   ]
  },
  {
   "cell_type": "code",
   "execution_count": null,
   "metadata": {
    "collapsed": true
   },
   "outputs": [],
   "source": [
    "sample_size = 256 "
   ]
  },
  {
   "cell_type": "code",
   "execution_count": null,
   "metadata": {
    "collapsed": false
   },
   "outputs": [],
   "source": [
    "texture_name = 'red-peppers256.o.jpg'\n",
    "model_name1= texture_name .. '_model.t7' \n",
    "model = torch.load('texture_models/' .. model_name1):cuda()\n",
    "\n",
    "\n",
    "noise_modules, _ = model:findModules('nn.GenNoise')\n",
    "imgs = {}\n",
    "for i=1,#noise_modules do\n",
    "    zero_all_but(i,noise_modules)\n",
    "    \n",
    "    samples = model:forward(torch.zeros(1,3,sample_size,sample_size):cuda()):double()\n",
    "    imgs[#noise_modules - i+1] = deprocess(samples)\n",
    "end\n",
    "itorch.image(torch.cat(imgs,1))"
   ]
  },
  {
   "cell_type": "markdown",
   "metadata": {},
   "source": [
    "And here we set 5th and 6th blob to zero and compare it with a sample generated using all noise blobs. Note that difference is negligible."
   ]
  },
  {
   "cell_type": "code",
   "execution_count": null,
   "metadata": {
    "collapsed": false,
    "scrolled": true
   },
   "outputs": [],
   "source": [
    "for i=1,#noise_modules do\n",
    "    noise_modules[i].action = 'fix'\n",
    "end\n",
    "\n",
    "samples = model:forward(torch.zeros(1,3,sample_size,sample_size):cuda()):double()\n",
    "print ('Generate, using all noise inputs.')\n",
    "smaple_all_inputs = deprocess(samples)\n",
    "itorch.image(deprocess(samples))\n",
    "\n",
    "\n",
    "noise_modules[1].action = 'zero'\n",
    "noise_modules[2].action = 'zero'\n",
    "noise_modules[3].action = 'fix'\n",
    "noise_modules[4].action = 'fix'\n",
    "noise_modules[5].action = 'fix'\n",
    "noise_modules[6].action = 'fix'\n",
    "\n",
    "samples = model:forward(torch.zeros(1,3,sample_size,sample_size):cuda()):double()\n",
    "print ('Generate, using only first four.\\n')\n",
    "itorch.image(deprocess(samples))\n",
    "\n",
    "print ('Diff')\n",
    "itorch.image(deprocess(samples)-smaple_all_inputs)"
   ]
  }
 ],
 "metadata": {
  "kernelspec": {
   "display_name": "iTorch",
   "language": "lua",
   "name": "itorch"
  },
  "language_info": {
   "name": "lua",
   "version": "20100"
  }
 },
 "nbformat": 4,
 "nbformat_minor": 0
}
