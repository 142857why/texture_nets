{
 "cells": [
  {
   "cell_type": "markdown",
   "metadata": {},
   "source": [
    "# Artistic style"
   ]
  },
  {
   "cell_type": "code",
   "execution_count": null,
   "metadata": {
    "collapsed": true
   },
   "outputs": [],
   "source": [
    "require 'cutorch'\n",
    "require 'nn'\n",
    "require 'cunn'\n",
    "require 'image'\n",
    "require 'utils'"
   ]
  },
  {
   "cell_type": "code",
   "execution_count": null,
   "metadata": {
    "collapsed": true
   },
   "outputs": [],
   "source": [
    "function nn.GenNoise:updateOutput(input)\n",
    "    k = 1.0\n",
    "    self.output = input\n",
    "    self.output:narrow(2,4,3):uniform():mul(k) \n",
    "    return self.output\n",
    "end\n",
    "function AdjustImageSize(input)\n",
    "    block_size = 32\n",
    "    w = block_size*torch.round(img:size()[3] / block_size)\n",
    "    h = block_size*torch.round(img:size()[2] / block_size)\n",
    "    return image.scale(img, w ,h)\n",
    "end"
   ]
  },
  {
   "cell_type": "markdown",
   "metadata": {},
   "source": [
    "Several pretrained models are available in stylization_models directory."
   ]
  },
  {
   "cell_type": "code",
   "execution_count": null,
   "metadata": {
    "collapsed": true
   },
   "outputs": [],
   "source": [
    "model_name = 'stylization_models/mosaic_style.t7' \n",
    "model = torch.load(model_name):cuda()"
   ]
  },
  {
   "cell_type": "markdown",
   "metadata": {},
   "source": [
    "list of provided models:\n",
    "\n",
    "mosaic_style.t7\n",
    "\n",
    "pleades_style.t7\n",
    "\n",
    "starry_style.t7\n",
    "\n",
    "turner_style.t7"
   ]
  },
  {
   "cell_type": "code",
   "execution_count": null,
   "metadata": {
    "collapsed": false
   },
   "outputs": [],
   "source": [
    "image_name = 'bird.jpg'\n",
    "\n",
    "img = image.load(image_name):double()\n",
    "img = AdjustImageSize(img)\n",
    "itorch.image(img)\n",
    "\n",
    "input = torch.Tensor(1, 6, img:size()[2], img:size()[3])\n",
    "input[1] = torch.cat({img, img}, 1)\n",
    "output = model:forward(input:cuda()):double()\n",
    "itorch.image(deprocess(output))"
   ]
  },
  {
   "cell_type": "code",
   "execution_count": null,
   "metadata": {
    "collapsed": true
   },
   "outputs": [],
   "source": []
  }
 ],
 "metadata": {
  "kernelspec": {
   "display_name": "iTorch",
   "language": "lua",
   "name": "itorch"
  },
  "language_info": {
   "name": "lua",
   "version": "20100"
  }
 },
 "nbformat": 4,
 "nbformat_minor": 0
}
